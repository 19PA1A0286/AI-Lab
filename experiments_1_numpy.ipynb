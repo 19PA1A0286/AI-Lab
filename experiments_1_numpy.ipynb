{
  "nbformat": 4,
  "nbformat_minor": 0,
  "metadata": {
    "colab": {
      "name": "experiments 1 numpy.ipynb",
      "provenance": [],
      "collapsed_sections": [],
      "authorship_tag": "ABX9TyOWQd+9fcT5GV5vd/RmCNKP",
      "include_colab_link": true
    },
    "kernelspec": {
      "name": "python3",
      "display_name": "Python 3"
    }
  },
  "cells": [
    {
      "cell_type": "markdown",
      "metadata": {
        "id": "view-in-github",
        "colab_type": "text"
      },
      "source": [
        "<a href=\"https://colab.research.google.com/github/19PA1A0286/AI-Lab/blob/master/experiments_1_numpy.ipynb\" target=\"_parent\"><img src=\"https://colab.research.google.com/assets/colab-badge.svg\" alt=\"Open In Colab\"/></a>"
      ]
    },
    {
      "cell_type": "markdown",
      "metadata": {
        "id": "Od1HPKRJBm-D",
        "colab_type": "text"
      },
      "source": [
        "# **1)Experiment 1:Numpy**"
      ]
    },
    {
      "cell_type": "markdown",
      "metadata": {
        "id": "nArcw0xNDYGC",
        "colab_type": "text"
      },
      "source": [
        "## **i)Different ways to create a numpy arrays**"
      ]
    },
    {
      "cell_type": "markdown",
      "metadata": {
        "id": "kwMXi0bHfEg4",
        "colab_type": "text"
      },
      "source": [
        "**a)create a numpy array using List**"
      ]
    },
    {
      "cell_type": "code",
      "metadata": {
        "id": "ydRaPLa5DoDM",
        "colab_type": "code",
        "colab": {
          "base_uri": "https://localhost:8080/",
          "height": 34
        },
        "outputId": "fae390b9-6b3a-4d57-9c7c-ad91dde9a504"
      },
      "source": [
        "import numpy as np\n",
        "a=np.array([1,2,3])\n",
        "print(a)"
      ],
      "execution_count": 3,
      "outputs": [
        {
          "output_type": "stream",
          "text": [
            "[1 2 3]\n"
          ],
          "name": "stdout"
        }
      ]
    },
    {
      "cell_type": "markdown",
      "metadata": {
        "id": "nC-c6Lg_frzO",
        "colab_type": "text"
      },
      "source": [
        "**b)Create a numpy array using arange function**\n"
      ]
    },
    {
      "cell_type": "code",
      "metadata": {
        "id": "Yo3KHPi4f9b-",
        "colab_type": "code",
        "colab": {
          "base_uri": "https://localhost:8080/",
          "height": 50
        },
        "outputId": "06a2189b-d645-4a5f-c760-abdcf83ac75f"
      },
      "source": [
        "a=np.array([[1,2,3],[98,99,100]])\n",
        "print(a)"
      ],
      "execution_count": 2,
      "outputs": [
        {
          "output_type": "stream",
          "text": [
            "[[  1   2   3]\n",
            " [ 98  99 100]]\n"
          ],
          "name": "stdout"
        }
      ]
    },
    {
      "cell_type": "markdown",
      "metadata": {
        "id": "t5MLSXM5FXcW",
        "colab_type": "text"
      },
      "source": [
        "# **ii)Add,remove,modify array elements**"
      ]
    },
    {
      "cell_type": "markdown",
      "metadata": {
        "id": "JkDO83RthyEI",
        "colab_type": "text"
      },
      "source": [
        "\n",
        "**a)Create a numpy array using add function.**"
      ]
    },
    {
      "cell_type": "code",
      "metadata": {
        "id": "Nkp9KMsCHNUK",
        "colab_type": "code",
        "colab": {
          "base_uri": "https://localhost:8080/",
          "height": 34
        },
        "outputId": "9f003e7f-ff18-430e-e2c4-760e288cfbe4"
      },
      "source": [
        "f=np.array([4,8,9])\n",
        "q=np.append(f,[6,5,8])\n",
        "print(q)"
      ],
      "execution_count": 4,
      "outputs": [
        {
          "output_type": "stream",
          "text": [
            "[4 8 9 6 5 8]\n"
          ],
          "name": "stdout"
        }
      ]
    },
    {
      "cell_type": "markdown",
      "metadata": {
        "id": "a-rm-Ltaia9u",
        "colab_type": "text"
      },
      "source": [
        "**b)Create a numpy array using remove function**"
      ]
    },
    {
      "cell_type": "code",
      "metadata": {
        "id": "F47_8j_-Hhbb",
        "colab_type": "code",
        "colab": {
          "base_uri": "https://localhost:8080/",
          "height": 34
        },
        "outputId": "d815f2fa-8f26-4abf-d832-1d2ecaf779bd"
      },
      "source": [
        "c=np.delete(f,2)\n",
        "print(c)\n"
      ],
      "execution_count": null,
      "outputs": [
        {
          "output_type": "stream",
          "text": [
            "[4 8]\n"
          ],
          "name": "stdout"
        }
      ]
    },
    {
      "cell_type": "markdown",
      "metadata": {
        "id": "4PEawHlNlAHW",
        "colab_type": "text"
      },
      "source": [
        "## iii)Artithmetic operations on NumPy array."
      ]
    },
    {
      "cell_type": "markdown",
      "metadata": {
        "id": "UVx4uJpRkFR-",
        "colab_type": "text"
      },
      "source": [
        ""
      ]
    },
    {
      "cell_type": "code",
      "metadata": {
        "id": "00ko6FVGJOOe",
        "colab_type": "code",
        "colab": {
          "base_uri": "https://localhost:8080/",
          "height": 101
        },
        "outputId": "94e7399f-e9f1-4e36-a2ad-fa816e507210"
      },
      "source": [
        "import numpy as np\n",
        "a=([1,2,3])\n",
        "b=([4,5,6])\n",
        "num_sum = np.add(a,b)\n",
        "num_diff = np.subtract(a,b)\n",
        "num_quo = np.divide(a,b)\n",
        "num_mod = np.mod(a,b)\n",
        "num_pow = np.power(a,b)\n",
        "print(num_sum)\n",
        "print(num_diff)\n",
        "print(num_quo)\n",
        "print(num_mod)\n",
        "print(num_pow)"
      ],
      "execution_count": 6,
      "outputs": [
        {
          "output_type": "stream",
          "text": [
            "[5 7 9]\n",
            "[-3 -3 -3]\n",
            "[0.25 0.4  0.5 ]\n",
            "[1 2 3]\n",
            "[  1  32 729]\n"
          ],
          "name": "stdout"
        }
      ]
    },
    {
      "cell_type": "markdown",
      "metadata": {
        "id": "1G0K9pDPKQDs",
        "colab_type": "text"
      },
      "source": [
        "# **iv)slicling and iterating of numpy arrays**"
      ]
    },
    {
      "cell_type": "markdown",
      "metadata": {
        "id": "8cmcFVxVmIkM",
        "colab_type": "text"
      },
      "source": [
        "**a)Create a numpy array using Slicing function.**"
      ]
    },
    {
      "cell_type": "code",
      "metadata": {
        "id": "VTe50t-sKt0E",
        "colab_type": "code",
        "colab": {
          "base_uri": "https://localhost:8080/",
          "height": 34
        },
        "outputId": "d5f07221-9a6f-4d81-bb83-86202b286cb2"
      },
      "source": [
        "import numpy as np\n",
        "arr=np.array([1,2,3,4,5,6,7])\n",
        "print(arr[1:5])"
      ],
      "execution_count": null,
      "outputs": [
        {
          "output_type": "stream",
          "text": [
            "[2 3 4 5]\n"
          ],
          "name": "stdout"
        }
      ]
    },
    {
      "cell_type": "markdown",
      "metadata": {
        "id": "PvBI3_wFmTH2",
        "colab_type": "text"
      },
      "source": [
        "**b)Create a numpy array using iterating function.**"
      ]
    },
    {
      "cell_type": "code",
      "metadata": {
        "id": "_6sKk0tGLTN6",
        "colab_type": "code",
        "colab": {
          "base_uri": "https://localhost:8080/",
          "height": 134
        },
        "outputId": "2f43fa40-d61b-46af-a577-2b02610f6e37"
      },
      "source": [
        "for x in arr:\n",
        "  print(x)"
      ],
      "execution_count": null,
      "outputs": [
        {
          "output_type": "stream",
          "text": [
            "1\n",
            "2\n",
            "3\n",
            "4\n",
            "5\n",
            "6\n",
            "7\n"
          ],
          "name": "stdout"
        }
      ]
    },
    {
      "cell_type": "markdown",
      "metadata": {
        "id": "Uud8-Vf3LgSS",
        "colab_type": "text"
      },
      "source": [
        "# **v)Matrix opertions on numpy arrays**"
      ]
    },
    {
      "cell_type": "code",
      "metadata": {
        "id": "k_p-rN0nL2kA",
        "colab_type": "code",
        "colab": {
          "base_uri": "https://localhost:8080/",
          "height": 118
        },
        "outputId": "24023cfe-39b7-4432-ea00-17a7b2ec961b"
      },
      "source": [
        "import numpy as np\n",
        "s=np.array([[1,2],[3,4]])\n",
        "t=np.array([[5,6],[7,8]])\n",
        "print(np.add(s,t))\n",
        "print(np.subtract(s,t))\n",
        "print(np.divide(s,t))"
      ],
      "execution_count": null,
      "outputs": [
        {
          "output_type": "stream",
          "text": [
            "[[ 6  8]\n",
            " [10 12]]\n",
            "[[-4 -4]\n",
            " [-4 -4]]\n",
            "[[0.2        0.33333333]\n",
            " [0.42857143 0.5       ]]\n"
          ],
          "name": "stdout"
        }
      ]
    }
  ]
}